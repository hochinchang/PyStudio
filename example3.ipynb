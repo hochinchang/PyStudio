{
 "cells": [
  {
   "cell_type": "code",
   "execution_count": 1,
   "id": "5edee7a6-95b8-425f-aeb3-6939f557db9e",
   "metadata": {},
   "outputs": [],
   "source": [
    "from PIL import Image\n",
    "import numpy as np\n",
    "import pyresample as pr\n",
    "from pycoast import ContourWriterAGG\n",
    "import aggdraw"
   ]
  },
  {
   "cell_type": "code",
   "execution_count": 2,
   "id": "cc67888b-144d-4dfb-97f5-22f76c29cd6c",
   "metadata": {},
   "outputs": [],
   "source": [
    "Source_def = pr.load_area('Table/Projection.proj','KoChi_1800') # 原始FDK資料的投影\n",
    "Image_def = pr.load_area('Table/Projection.proj','TW_800')  # 輸出圖檔的投影"
   ]
  },
  {
   "cell_type": "code",
   "execution_count": 24,
   "id": "1aa645f8-ed6f-48c9-9f68-5ceeaa5d242b",
   "metadata": {},
   "outputs": [],
   "source": [
    "def img2lcc(imgS):\n",
    "    global Source_def, Image_def\n",
    "    cntS=np.array(imgS)\n",
    "    RoI = 5000 # 取樣之影響半徑\n",
    "    Si = 25000\n",
    "    #cntLCC = pr.kd_tree.resample_nearest(Source_def, cntS, Image_def, radius_of_influence=RoI)\n",
    "    cntLCC = pr.kd_tree.resample_gauss(Source_def, cntS, Image_def, \n",
    "                                       radius_of_influence=RoI, \n",
    "                                       sigmas=Si)\n",
    "    return Image.fromarray(np.uint8(cntLCC))\n",
    "    "
   ]
  },
  {
   "cell_type": "code",
   "execution_count": 25,
   "id": "d358a1c7-468a-4dae-9705-dcb4a7e12efc",
   "metadata": {},
   "outputs": [],
   "source": [
    "def mergeImage(img1,img2):\n",
    "    global Image_def\n",
    "    imgNew = Image.merge('RGB',(img1,img1,img2))\n",
    "    ShapePath = 'Table/gshhg-shp-2.3.7'\n",
    "    cw = ContourWriterAGG(ShapePath)\n",
    "    cw.add_coastlines(imgNew,Image_def,resolution='i'\n",
    "                      ,outline=(255,255,255),width=2)\n",
    "    ttfFile = 'Table/LiberationMono-Regular.ttf'\n",
    "    font = aggdraw.Font('white',ttfFile,size=30)\n",
    "    cw.add_grid(imgNew,Image_def,(5,5),(5,5),\n",
    "                font,outline=(250,250,255),width=1)\n",
    "    return imgNew"
   ]
  },
  {
   "cell_type": "code",
   "execution_count": 26,
   "id": "dd194bfb-4c71-4318-869c-2302145673a6",
   "metadata": {},
   "outputs": [],
   "source": [
    "if __name__ == '__main__':\n",
    "    IR1 = Image.open('HMW823080103IR1.pgm')\n",
    "    VIS = Image.open('HMW823080103VIS.pgm')\n",
    "    IR1LCC = img2lcc(IR1)\n",
    "    VISLCC = img2lcc(VIS)\n",
    "    img = mergeImage(VISLCC,IR1LCC)\n",
    "    img.show()\n",
    "    img.save('gauss.jpg')"
   ]
  },
  {
   "cell_type": "code",
   "execution_count": null,
   "id": "27a461af-d3ab-40f8-915b-cb27a2f634b1",
   "metadata": {},
   "outputs": [],
   "source": []
  }
 ],
 "metadata": {
  "kernelspec": {
   "display_name": "Python 3 (ipykernel)",
   "language": "python",
   "name": "python3"
  },
  "language_info": {
   "codemirror_mode": {
    "name": "ipython",
    "version": 3
   },
   "file_extension": ".py",
   "mimetype": "text/x-python",
   "name": "python",
   "nbconvert_exporter": "python",
   "pygments_lexer": "ipython3",
   "version": "3.11.4"
  }
 },
 "nbformat": 4,
 "nbformat_minor": 5
}
