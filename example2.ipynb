{
 "cells": [
  {
   "cell_type": "code",
   "execution_count": 1,
   "id": "454a1f09-a038-47c2-8d3c-fc238caccad8",
   "metadata": {},
   "outputs": [],
   "source": [
    "from PIL import Image\n",
    "import numpy as np"
   ]
  },
  {
   "cell_type": "code",
   "execution_count": 3,
   "id": "b221e630-2baa-441f-84e8-6325dec56502",
   "metadata": {},
   "outputs": [],
   "source": [
    "PNGFile='lccn_TRGB_20230801_0300.png'\n",
    "imgS = Image.open(PNGFile)\n",
    "r,g,b=imgS.split()"
   ]
  },
  {
   "cell_type": "code",
   "execution_count": 5,
   "id": "95ab8fb5-0e75-478a-955d-e31412c96576",
   "metadata": {},
   "outputs": [],
   "source": [
    "CntR = np.array(r)\n",
    "CntR_new = np.array(CntR/2,dtype='uint8')\n",
    "r_new=Image.fromarray(CntR_new,'L')"
   ]
  },
  {
   "cell_type": "code",
   "execution_count": 7,
   "id": "61fe73e2-a6be-4d75-859c-ce0484940232",
   "metadata": {},
   "outputs": [],
   "source": [
    "imgS_new=Image.merge('RGB',(r_new,g,b))\n",
    "imgS_new.save('new.png')"
   ]
  },
  {
   "cell_type": "code",
   "execution_count": 8,
   "id": "676416bf-9abb-4c13-8bd5-f13466eaf627",
   "metadata": {},
   "outputs": [],
   "source": [
    "imgS_new.show()"
   ]
  },
  {
   "cell_type": "code",
   "execution_count": null,
   "id": "ca1195a3-5ee7-473e-a563-6e39f3c80097",
   "metadata": {},
   "outputs": [],
   "source": []
  }
 ],
 "metadata": {
  "kernelspec": {
   "display_name": "Python 3 (ipykernel)",
   "language": "python",
   "name": "python3"
  },
  "language_info": {
   "codemirror_mode": {
    "name": "ipython",
    "version": 3
   },
   "file_extension": ".py",
   "mimetype": "text/x-python",
   "name": "python",
   "nbconvert_exporter": "python",
   "pygments_lexer": "ipython3",
   "version": "3.11.4"
  }
 },
 "nbformat": 4,
 "nbformat_minor": 5
}
