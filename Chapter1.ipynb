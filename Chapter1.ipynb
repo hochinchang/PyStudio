{
 "cells": [
  {
   "cell_type": "code",
   "execution_count": 26,
   "id": "ddaf5eed-5a18-4291-9de6-3a32e5c9d19a",
   "metadata": {},
   "outputs": [],
   "source": [
    "from PIL import Image\n",
    "import numpy as np"
   ]
  },
  {
   "cell_type": "code",
   "execution_count": 30,
   "id": "8200d578-0400-43db-946e-081101ccf439",
   "metadata": {},
   "outputs": [
    {
     "name": "stdout",
     "output_type": "stream",
     "text": [
      "<class 'PIL.Image.Image'>\n",
      "<class 'numpy.ndarray'>\n"
     ]
    }
   ],
   "source": [
    "cntS1 = np.fromfile(PGMFile,dtype='uint8')\n",
    "dsize=1800\n",
    "arraysize=dsize*dsize\n",
    "cntS1 = cntS1[-arraysize:]\n",
    "cntS1 = cntS1.reshape((dsize,dsize))\n",
    "ImgS1 = Image.fromarray(cntS,'L')\n",
    "print(type(imgS1))\n",
    "print(type(cntS1))"
   ]
  },
  {
   "cell_type": "code",
   "execution_count": 46,
   "id": "dd026d4b-d69d-4fa0-aa90-0e3096b48568",
   "metadata": {},
   "outputs": [
    {
     "name": "stdout",
     "output_type": "stream",
     "text": [
      "<class 'PIL.PpmImagePlugin.PpmImageFile'> <PIL.PpmImagePlugin.PpmImageFile image mode=L size=1800x1800 at 0x1D891406910>\n",
      "<class 'numpy.ndarray'>\n"
     ]
    }
   ],
   "source": [
    "PGMFile = 'HMW823080103IR1.pgm'\n",
    "imgS = Image.open(PGMFile)  \n",
    "print(type(imgS),imgS)\n",
    "cntS = np.array(imgS,dtype='uint8')\n",
    "print(type(cntS))"
   ]
  },
  {
   "cell_type": "code",
   "execution_count": 31,
   "id": "498af73d-fadd-42bf-9053-f1637ca9e498",
   "metadata": {},
   "outputs": [
    {
     "name": "stdout",
     "output_type": "stream",
     "text": [
      "<class 'PIL.PngImagePlugin.PngImageFile'> <PIL.PngImagePlugin.PngImageFile image mode=RGB size=3000x3000 at 0x1D89148F6D0>\n"
     ]
    }
   ],
   "source": [
    "PNGFile = 'lccn_TRGB_20230801_0300.png'\n",
    "imgS2 = Image.open(PNGFile)\n",
    "print(type(imgS2),imgS2)"
   ]
  },
  {
   "cell_type": "code",
   "execution_count": 33,
   "id": "9b61c56a-e6b0-458b-baad-09faf2d78450",
   "metadata": {},
   "outputs": [
    {
     "name": "stdout",
     "output_type": "stream",
     "text": [
      "<PIL.Image.Image image mode=L size=3000x3000 at 0x1D890B79E90> <PIL.Image.Image image mode=L size=3000x3000 at 0x1D891493DD0> <PIL.Image.Image image mode=L size=3000x3000 at 0x1D890B7BC90>\n"
     ]
    }
   ],
   "source": [
    "r,g,b=imgS2.split()\n",
    "print(r,g,b)"
   ]
  },
  {
   "cell_type": "code",
   "execution_count": null,
   "id": "014952b0-128b-4ef6-901b-fa0cfd941afd",
   "metadata": {},
   "outputs": [],
   "source": []
  }
 ],
 "metadata": {
  "kernelspec": {
   "display_name": "Python 3 (ipykernel)",
   "language": "python",
   "name": "python3"
  },
  "language_info": {
   "codemirror_mode": {
    "name": "ipython",
    "version": 3
   },
   "file_extension": ".py",
   "mimetype": "text/x-python",
   "name": "python",
   "nbconvert_exporter": "python",
   "pygments_lexer": "ipython3",
   "version": "3.11.4"
  }
 },
 "nbformat": 4,
 "nbformat_minor": 5
}
